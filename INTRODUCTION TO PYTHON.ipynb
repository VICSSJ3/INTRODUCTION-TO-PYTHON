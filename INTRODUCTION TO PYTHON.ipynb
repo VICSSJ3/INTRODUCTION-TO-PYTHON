{
  "nbformat": 4,
  "nbformat_minor": 0,
  "metadata": {
    "colab": {
      "name": "Untitled1.ipynb",
      "provenance": [],
      "collapsed_sections": []
    },
    "kernelspec": {
      "name": "python3",
      "display_name": "Python 3"
    },
    "language_info": {
      "name": "python"
    }
  },
  "cells": [
    {
      "cell_type": "markdown",
      "metadata": {
        "id": "WXgUeOTWWOmy"
      },
      "source": [
        "# **Python**\n",
        "What is python?\n",
        "python is an interpreted, object-oriented, high-level programing language with dynamic semantics. Its high-level built in data structures, combined with dynamic typing and dynamic binding, make it very attractive for Rapid application Development, as well as for use as a scripting or glue language to connect existing components together. Python's simple, easy to learn syntax emphasized readability and therefore reduces the cost of program maintenance, Python supports modules and packages, which encourages program modularity and core reuse. The python interpreter and the extensive standard library are available in source or binary form without charge for all major platforms, and can be freely distributed.\n",
        "\n",
        "often, programmers fall in love with python because of the increased productivity it provides. Since there is no compilation step, the edit-test-debug cycle is incredibly fast. Debugging Python programs is easy: a bug or bad input will never cause a segmentation fault. Instead, when the interpreter discovers an error, it raises an exception. When the program doesn't catch the exception, the interpreter prints a stick trace. A source level debugger allows inspection of local and global varibales, evaluation of arbitrary expressions, setting breakpoints, stepping through the code a line at a time, and so on. The debugger is written in Python itself, testifying to Python's introspective power. On the other hand, often the quickest way to debug a program is to add a few print statements to the source: the fast edit- test-debug cycle makes this simple approach very effective."
      ]
    },
    {
      "cell_type": "markdown",
      "metadata": {
        "id": "DjTgnB4oLDoq"
      },
      "source": [
        "# **What does python work for?**\n",
        "* **Data science.** The powey of Python libraries developed for data analysis and visualization is astonishing.\n",
        "* **Machine learning.** Python is an essential tool for all developers who want to dive into the field of machine learning.\n",
        "* **Web development.** Python is used in the field of web development to build the back end of web applications.\n",
        "* **Computer Science Education.** Python is widely used as a teaching tool because it is easy to learn - its syntax is simple and can be learned quickly.\n",
        "* **Computer vision and image processing.** It enables developers to easily integrate vision detection functions within applications.\n",
        "* **Game development.** Games create timeless memories and will continue to be a part of our society for years to come.\n",
        "* **Medice and Pharmacology.** Python also has amazing applications in the medical field that enhance the ability to deliver accurate and efficient diagnoses and treatments to patients.\n",
        "* **Biology and Bioinformatics.** Its applications in these fields have to do with the processing of DNA sequences, the simulation of population dynamics and genetics, and the modeling of biochemical structures.\n",
        "* **Neuroscience and Psychology.** As publised in a recent article, \"computing is becoming essential in all siences, for data acquisition and analysis, automation and hypothesis testing through modeling and simulation.\n",
        "* **Astronomy** Python also has applications in Astronomy and Astrophysics.\n",
        "* Other areas such as robotics, autonomous vehicles, business, meteorology, and graphical user interface develomenp also benefit from using python.\n"
      ]
    },
    {
      "cell_type": "markdown",
      "metadata": {
        "id": "t_RTIOwFbyQZ"
      },
      "source": [
        "# **TOP USES OF PYTHON IN THE REAL WORLD**\n",
        "\n",
        "\n",
        "1. Web development.\n",
        "2. Data science\n",
        "3. Artificial intelligence and machine learning.\n",
        "4. Business applications.\n",
        "5. Education sector.\n",
        "6. Web scraping applications.\n",
        "7. Game development.\n",
        "8. Software development.\n",
        "9. Desktop GUI.\n",
        "10. Operating systems.\n",
        "\n"
      ]
    },
    {
      "cell_type": "markdown",
      "metadata": {
        "id": "41NMLNpnczZ5"
      },
      "source": [
        "# **HISTORY**\n",
        "Python was conceived in the late 1980s by Guido van Rossum at centrum Wiskunde & informatica (CWI) in the Netherlands as a successor to ABC programming language which was inspired by SETL, capable of exception handling and interfacing with the Amoeba operating system. Its implementation began in December 1989. Van Rossum shouldered sole responsibility for the project, as the lead developer, until 12 July 2018, when he announced his \"permanent vacaion\" from his responsibilities as Python's Benevolent Dictator For Life, a title the Python community bestowed upon him to reflect his long-term commitment as the project's chief decision-maker. In January 2019, activate Python core developers elected a 5-member \"steering council\" to lead the project. As of 2021, the current members of this council are Barry Warsaw, Brett Cannon, Carol Willing, Thomas Wouters, and Pablo Galindo Salgado.\n",
        "\n",
        "Python 2.0 was released on 16 october 2020, with many major new features, including a cycle-detecting garbage collector and support for Unicode.\n",
        "\n",
        "Python 3.0 Was released on 3 December 2008. It was a major revision of the language that is not completely backward-compatible. Many of its major features were backported to python 2.6.x and 2.7.x version series. Releases of Python 3 include the 2to3 utility, which automates (at least partially) the translation of Python 2 code Python 3."
      ]
    },
    {
      "cell_type": "markdown",
      "metadata": {
        "id": "Upsq0sj6l2GU"
      },
      "source": [
        "# **Getting input**\n",
        "The input function is a simple way for your program to get information from people using your program. Here is an example:\n",
        "\n",
        "\n",
        "```\n",
        "name = input ('Enter your name: ')\n",
        "print('Hello, ', name)\n",
        "```\n",
        "The basic structure is \n",
        "    \n",
        "    variable name = input (message to user)\n",
        "The above works for getting text from the user. To get numbers from the user in calculations, we need to do something extra. Here is an example:\n",
        "\n",
        "    num = eval(input('Enter a number: '))\n",
        "    print('Your number squared: ', num*num)\n",
        "The eval function converts the next entered by the user into a number. One nice feature of this is you can enter expressions, like 3*12+5, and eval will compute them for you.\n",
        "\n",
        "# **Printing** \n",
        "Here is a simple example:\n",
        "\n",
        "    print('Hi there')\n",
        "The print function requieres parenthesis around its arguments. In the program above, its only argument is the string 'Hi there'. Anything inside quotes will (with a few exceptions) be printed exactly as it appears. In the following, the first statement will output 3+4, while the second will output 7.\n",
        "\n",
        "    print ('3+4')\n",
        "    print (3+4)\n",
        "To print several things at once, separate them by commas. Python will automatically insert spaces between them. Below is an example and the output it produces.\n",
        "\n",
        "    print('The value of 3+4 is', 3+4)\n",
        "    print('A', 1. 'XYZ', 2)\n",
        "the value of 3+4 is 7\n",
        "A 1 XYZ 2"
      ]
    },
    {
      "cell_type": "markdown",
      "metadata": {
        "id": "bmn3DEa7wvNg"
      },
      "source": [
        "### **Variable declaration in Python**\n",
        "The creation of a new variable is called a declaration, while in some languages the variable must be created first and then added content, in Python the variable is declared by assigning it a value, in other words it is not necessary to declare them previously, just assign it some value will be created on the spot.\n",
        "\n",
        "variable declaration example in Python\n"
      ]
    },
    {
      "cell_type": "code",
      "metadata": {
        "colab": {
          "base_uri": "https://localhost:8080/"
        },
        "id": "u7DRwFGPzWR8",
        "outputId": "19e6a94f-8a61-46bf-d3a5-afb4287a2db2"
      },
      "source": [
        "prueba = 5 \n",
        "print (prueba)"
      ],
      "execution_count": 7,
      "outputs": [
        {
          "output_type": "stream",
          "name": "stdout",
          "text": [
            "5\n"
          ]
        }
      ]
    },
    {
      "cell_type": "markdown",
      "metadata": {
        "id": "HxuXLcLEzlq2"
      },
      "source": [
        "If you copy and execute the previous code in your preferred IDE, you will realize that with the help of the print () function the number 5 will be output by the command line, by the way it is good to say here that for the name of a variable you can use letters and numbers, it is recommended that variables be lowercase letters, you cannot leave spaces but you can use underscore to separate between words.\n",
        "\n",
        "This is where the question arises, how to know the type of variable in Python? In case someone does not know it yet, in every programming language there are different types of data, for example an integer type that, as its name indicates, will include integers, that is, without decimals or points {12345 ...}, we also have the point type floating in this case if it allows the entry of decimals 85.24 {...}, there is also text type and so on, in the next article can read more about types of variables in Python, here I will clarify is that a Unlike other languages ​​where you have to declare the data type for example \"int variable1\" or \"float variable2\" in Python this is not done or needed, because we are in a dynamic typing language that is to say that the data type is assigned dynamically depending on its value, let's see an example"
      ]
    },
    {
      "cell_type": "markdown",
      "metadata": {
        "id": "5YECdR0P0ewX"
      },
      "source": [
        "\n",
        "\n",
        "```\n",
        "variable1 = 5 # Esta será una variable de tipo entero, el intérprete de python lo entiende\n",
        "variable2 = \"curso de python nivel intermedio\"\n",
        "variable2 será de tipo texto\n",
        "```\n",
        "\n"
      ]
    },
    {
      "cell_type": "markdown",
      "metadata": {
        "id": "NUH3szhC6V8R"
      },
      "source": [
        "Change the value or type of a variable in Python\n",
        "\n",
        "\n",
        "I will say that this is also very simple and in fact the word \"simple\" and \"Python\" are usually accompanied, because it really is, to change the value of a variable we simply do it with the assignment operator \"=\" we add it again (assign) a new value, if we want to enter text in a variable that had a numerical value, it is not necessary to do anything else, just enter the new value, let's see:"
      ]
    },
    {
      "cell_type": "code",
      "metadata": {
        "colab": {
          "base_uri": "https://localhost:8080/"
        },
        "id": "R0Tu1fE16X3o",
        "outputId": "c8378c15-8943-44c3-81ba-47998f34fa4c"
      },
      "source": [
        "variable1 = 15\n",
        "print(variable1)\n",
        "variable1 = 30\n",
        "print(variable1)\n",
        "variable1 = \"now its value will be this text\"\n",
        "print(variable1)"
      ],
      "execution_count": 6,
      "outputs": [
        {
          "output_type": "stream",
          "name": "stdout",
          "text": [
            "15\n",
            "30\n",
            "now its value will be this text\n"
          ]
        }
      ]
    },
    {
      "cell_type": "markdown",
      "metadata": {
        "id": "4zb06kvt8ScB"
      },
      "source": [
        "# **If statements**\n",
        "Quite often in programs we only want to do something provided something else is true. Python’s\n",
        "if statement is what we need.\n",
        "\n",
        "### **A Simple Example**\n",
        "Let’s try a guess-a-number program. The computer picks a random number, the player tries to\n",
        "guess, and the program tells them if they are correct. To see if the player’s guess is correct, we need\n",
        "something new, called an if statement.\n",
        "\n",
        "    from random import randint\n",
        "\n",
        "    num = randint (1,10)\n",
        "    guess = eval (input('enter your guess: '))\n",
        "    if guess==num:\n",
        "    print('you got it!')\n",
        "The syntax of the if statement is a lot like the for statement in that there is a colon at the end of\n",
        "the if condition and the following line or lines are indented. The lines that are indented will be\n",
        "executed only if the condition is true. Once the indentation is done with, the if block is concluded.\n",
        "The guess-a-number game works, but it is pretty simple. If the player guesses wrong, nothing\n",
        "happens. We can add to the if statement as follows:\n",
        "\n",
        "\n",
        "```\n",
        "if guess==num:\n",
        "    print('you got it!')\n",
        "else: \n",
        "    print('sorry. the number is ', num)\n",
        "```\n",
        "We have added an else statement, which is like an “otherwise.”\n",
        "\n",
        "\n",
        "\n"
      ]
    },
    {
      "cell_type": "markdown",
      "metadata": {
        "id": "orlLxVd69XhC"
      },
      "source": [
        "# **Conditional operators**\n",
        "The comparison operators are ==, >, <, >=, <=, and !=. That last one is for not equals. Here are a few\n",
        "examples:\n",
        "\n",
        "![Screenshot 2021-09-17 223210.jpg](data:image/jpeg;base64,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)\n",
        "There are three additional operators used to construct more complicated conditions: and, or, and\n",
        "not. Here are some examples:\n",
        "\n",
        "```\n",
        "if grade>=80 and grade<90:\n",
        "print('Your grade is a B.')\n",
        "if score>1000 or time>20:\n",
        "print('Game over.')\n",
        "if not (score>1000 or time>20):\n",
        "print('Game continues.')\n",
        "```\n",
        "\n",
        "Order of operations In terms of order of operations, and is done before or, so if you have a\n",
        "complicated condition that contains both, you may need parentheses around the or condition.\n",
        "Think of and as being like multiplication and or as being like addition. Here is an example:\n",
        "\n",
        "```\n",
        "if (score<1000 or time>20) and turns_remaining==0:\n",
        "print('Game over.')\n",
        "\n",
        "```\n",
        "\n",
        "\n",
        "\n"
      ]
    },
    {
      "cell_type": "markdown",
      "metadata": {
        "id": "m_2975uz_aPi"
      },
      "source": [
        "# **While loops**\n",
        "We have already learned about for loops, which allow us to repeat things a specified number of\n",
        "times. Sometimes, though, we need to repeat something, but we don’t know ahead of time exactly\n",
        "how many times it has to be repeated. For instance, a game of Tic-tac-toe keeps going until someone\n",
        "wins or there are no more moves to be made, so the number of turns will vary from game to game.\n",
        "This is a situation that would call for a while loop.\n",
        "\n",
        "Example 1 Let’s go back to the first program we wrote back in Section 1.3, the temperature converter. One annoying thing about it is that the user has to restart the program for every new temperature. A while loop will allow the user to repeatedly enter temperatures. A simple way for the\n",
        "user to indicate that they are done is to have them enter a nonsense temperature like −1000 (which\n",
        "is below absolute 0). This is done below:\n",
        "\n",
        "\n",
        "```\n",
        "temp = 0\n",
        "while temp!=-1000:\n",
        "temp = eval(input('Enter a temperature (-1000 to quit): '))\n",
        "print('In Fahrenheit that is', 9/5*temp+32)\n",
        "```\n",
        "\n",
        "Look at the while statement first. It says that we will keep looping, that is, keep getting and\n",
        "converting temperatures, as long as the temperature entered is not −1000. As soon as −1000 is\n",
        "entered, the while loop stops. Tracing through, the program first compares temp to −1000. If temp\n",
        "is not −1000, then the program asks for a temperature and converts it. The program then loops\n",
        "back up and again compares temp to −1000. If temp is not −1000, the program will ask for another\n",
        "temperature, convert it, and then loop back up again and do another comparison. It continues this\n",
        "process until the user enters −1000.\n",
        "We need the line temp=0 at the start, as without it, we would get a name error. The program would\n",
        "get to the while statement, try to see if temp is not equal to −1000 and run into a problem because\n",
        "temp doesn’t yet exist. To take care of this, we just declare temp equal to 0. There is nothing special\n",
        "about the value 0 here. We could set it to anything except −1000. (Setting it to −1000 would cause\n",
        "the condition on the while loop to be false right from the start and the loop would never run.)\n",
        "Note that is natural to think of the while loop as continuing looping until the user enters -1000.\n",
        "However, when we construct the condition, instead of thinking about when to stop looping, we\n",
        "instead need to think in terms of what has to be true in order to keep going.\n",
        "A while loop is a lot like an if statement. The difference is that the indented statements in an if\n",
        "block will only be executed once, whereas the indented statements in a while loop are repeatedly\n",
        "executed.\n",
        "\n"
      ]
    }
  ]
}